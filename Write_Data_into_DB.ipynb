{
 "cells": [
  {
   "cell_type": "code",
   "execution_count": 1,
   "metadata": {},
   "outputs": [],
   "source": [
    "import numpy as np\n",
    "import pandas as pd\n",
    "import mysql.connector\n",
    "from dotenv import dotenv_values"
   ]
  },
  {
   "cell_type": "code",
   "execution_count": 2,
   "metadata": {},
   "outputs": [],
   "source": [
    "# Load the environment variables from the .env file\n",
    "env_vars = dotenv_values('.env')\n",
    "\n",
    "# Get the password from the environment variables\n",
    "password = env_vars.get('PASSWORD')\n",
    "\n",
    "# Get the user from the environment variables\n",
    "user = env_vars.get('USER')"
   ]
  },
  {
   "cell_type": "code",
   "execution_count": 3,
   "metadata": {},
   "outputs": [
    {
     "name": "stdout",
     "output_type": "stream",
     "text": [
      "Password retrieved successfully\n"
     ]
    }
   ],
   "source": [
    "if password:\n",
    "    print(\"Password retrieved successfully\")\n",
    "else:\n",
    "    print(\"Password not found in .env file.\")"
   ]
  },
  {
   "cell_type": "code",
   "execution_count": 4,
   "metadata": {},
   "outputs": [],
   "source": [
    "# Connect to the database\n",
    "db = mysql.connector.connect(host=\"localhost\",\n",
    "                             user=user,\n",
    "                             passwd=password,\n",
    "                             database=\"gsalud\")\n",
    "\n",
    "# Create a cursor object using the cursor() method\n",
    "cursor = db.cursor()"
   ]
  },
  {
   "cell_type": "code",
   "execution_count": 5,
   "metadata": {},
   "outputs": [
    {
     "data": {
      "text/html": [
       "<div>\n",
       "<style scoped>\n",
       "    .dataframe tbody tr th:only-of-type {\n",
       "        vertical-align: middle;\n",
       "    }\n",
       "\n",
       "    .dataframe tbody tr th {\n",
       "        vertical-align: top;\n",
       "    }\n",
       "\n",
       "    .dataframe thead th {\n",
       "        text-align: right;\n",
       "    }\n",
       "</style>\n",
       "<table border=\"1\" class=\"dataframe\">\n",
       "  <thead>\n",
       "    <tr style=\"text-align: right;\">\n",
       "      <th></th>\n",
       "      <th>Index</th>\n",
       "      <th>Fecha</th>\n",
       "      <th>Paciente</th>\n",
       "      <th>Valor</th>\n",
       "      <th>Actividades</th>\n",
       "      <th>Actividad_1</th>\n",
       "      <th>Actividad_2</th>\n",
       "      <th>Actividad_3</th>\n",
       "      <th>Metodo_de_pago</th>\n",
       "    </tr>\n",
       "  </thead>\n",
       "  <tbody>\n",
       "    <tr>\n",
       "      <th>0</th>\n",
       "      <td>0</td>\n",
       "      <td>2023-06-09</td>\n",
       "      <td>Manfry Ariza</td>\n",
       "      <td>60000</td>\n",
       "      <td>valoracion</td>\n",
       "      <td>valoracion</td>\n",
       "      <td>NaN</td>\n",
       "      <td>NaN</td>\n",
       "      <td>Datafono</td>\n",
       "    </tr>\n",
       "    <tr>\n",
       "      <th>1</th>\n",
       "      <td>1</td>\n",
       "      <td>2023-06-09</td>\n",
       "      <td>Nazly Avila</td>\n",
       "      <td>185000</td>\n",
       "      <td>montaje,retiro</td>\n",
       "      <td>montaje</td>\n",
       "      <td>retiro</td>\n",
       "      <td>NaN</td>\n",
       "      <td>Nequi</td>\n",
       "    </tr>\n",
       "    <tr>\n",
       "      <th>2</th>\n",
       "      <td>2</td>\n",
       "      <td>2023-06-09</td>\n",
       "      <td>Paula Hernandez</td>\n",
       "      <td>25000</td>\n",
       "      <td>radiografia</td>\n",
       "      <td>radiografia</td>\n",
       "      <td>NaN</td>\n",
       "      <td>NaN</td>\n",
       "      <td>Efectivo</td>\n",
       "    </tr>\n",
       "    <tr>\n",
       "      <th>3</th>\n",
       "      <td>3</td>\n",
       "      <td>2023-06-09</td>\n",
       "      <td>Kevin Santiago Soto</td>\n",
       "      <td>105000</td>\n",
       "      <td>control,reparacion</td>\n",
       "      <td>control</td>\n",
       "      <td>reparacion</td>\n",
       "      <td>NaN</td>\n",
       "      <td>Efectivo</td>\n",
       "    </tr>\n",
       "    <tr>\n",
       "      <th>4</th>\n",
       "      <td>4</td>\n",
       "      <td>2023-06-09</td>\n",
       "      <td>Laura Cupa</td>\n",
       "      <td>60000</td>\n",
       "      <td>control</td>\n",
       "      <td>control</td>\n",
       "      <td>NaN</td>\n",
       "      <td>NaN</td>\n",
       "      <td>Datafono</td>\n",
       "    </tr>\n",
       "  </tbody>\n",
       "</table>\n",
       "</div>"
      ],
      "text/plain": [
       "   Index       Fecha             Paciente   Valor         Actividades  \\\n",
       "0      0  2023-06-09         Manfry Ariza   60000          valoracion   \n",
       "1      1  2023-06-09          Nazly Avila  185000      montaje,retiro   \n",
       "2      2  2023-06-09      Paula Hernandez   25000         radiografia   \n",
       "3      3  2023-06-09  Kevin Santiago Soto  105000  control,reparacion   \n",
       "4      4  2023-06-09           Laura Cupa   60000             control   \n",
       "\n",
       "   Actividad_1 Actividad_2 Actividad_3 Metodo_de_pago  \n",
       "0   valoracion         NaN         NaN       Datafono  \n",
       "1      montaje      retiro         NaN          Nequi  \n",
       "2  radiografia         NaN         NaN       Efectivo  \n",
       "3      control  reparacion         NaN       Efectivo  \n",
       "4      control         NaN         NaN       Datafono  "
      ]
     },
     "execution_count": 5,
     "metadata": {},
     "output_type": "execute_result"
    }
   ],
   "source": [
    "# Load the dataframe from the csv file\n",
    "pagos_cleaned = pd.read_csv('pagos_cleaned.csv', encoding='utf-8')\n",
    "\n",
    "pagos_cleaned.head()"
   ]
  },
  {
   "cell_type": "code",
   "execution_count": 6,
   "metadata": {},
   "outputs": [],
   "source": [
    "# Extract unique values of \"Paciente\" for the \"patient\" table\n",
    "pacientes = pagos_cleaned['Paciente'].unique()\n",
    "\n",
    "# Extract unique values of \"Actividades\" for the \"activity\" table\n",
    "activities = pagos_cleaned['Actividades'].str.split(\n",
    "    ',', expand=True).stack().unique()\n",
    "\n",
    "# extract unique values of \"Metodo_de_pago\" for the \"payment_method\" table\n",
    "payment_types = pagos_cleaned['Metodo_de_pago'].unique()"
   ]
  },
  {
   "cell_type": "markdown",
   "metadata": {},
   "source": [
    "### Database functions:"
   ]
  },
  {
   "cell_type": "code",
   "execution_count": 7,
   "metadata": {},
   "outputs": [],
   "source": [
    "# Create a function to get the ID from the database\n",
    "def get_id(cursor, table_name, column_name, value):\n",
    "    # Get the ID from the database based on the given value\n",
    "    query = f\"SELECT {column_name} FROM {table_name} WHERE name = %s\"\n",
    "    cursor.execute(query, (value, ))\n",
    "    result = cursor.fetchone()\n",
    "    if result:\n",
    "        return result[0]\n",
    "    else:\n",
    "        raise ValueError(f\"{value} does not exist in the {table_name} table.\")"
   ]
  },
  {
   "cell_type": "code",
   "execution_count": 8,
   "metadata": {},
   "outputs": [],
   "source": [
    "# Create a function to check if a value exists in the database\n",
    "def check_existence(cursor, table_name, column_name, value):\n",
    "    # Check if the value exists in the database\n",
    "    query = f\"SELECT * FROM {table_name} WHERE {column_name} = %s\"\n",
    "    cursor.execute(query, (value, ))\n",
    "    result = cursor.fetchone()\n",
    "    if result:\n",
    "        return True\n",
    "    else:\n",
    "        return False"
   ]
  },
  {
   "cell_type": "code",
   "execution_count": 9,
   "metadata": {},
   "outputs": [],
   "source": [
    "# Create function to insert data into the database\n",
    "def insert_data(cursor,\n",
    "                table_name,\n",
    "                id_name,\n",
    "                id_value,\n",
    "                column_names=None,\n",
    "                values=None):\n",
    "    if column_names and values:\n",
    "        # Insert the data into the database\n",
    "        query = f\"INSERT INTO {table_name} ({id_name}, {', '.join(column_names)}) VALUES (%s, {', '.join(['%s' for _ in range(len(column_names))])})\"\n",
    "        cursor.execute(query, (id_value, *values))\n",
    "    else:\n",
    "        query = f\"INSERT INTO {table_name} ({id_name}) VALUES (%s)\"\n",
    "        cursor.execute(query, (id_value, ))"
   ]
  },
  {
   "cell_type": "code",
   "execution_count": 10,
   "metadata": {},
   "outputs": [],
   "source": [
    "# Create function to fill data into the database\n",
    "def fill_data(data, table_name, column_name, cursor):\n",
    "    try:\n",
    "        for item in data:\n",
    "            if not check_existence(cursor, table_name, column_name, item):\n",
    "                insert_data(cursor, table_name, column_name, item)\n",
    "                db.commit()\n",
    "\n",
    "    except Exception as e:\n",
    "        print(f\"An error occurred: {e}\")"
   ]
  },
  {
   "cell_type": "code",
   "execution_count": 11,
   "metadata": {},
   "outputs": [],
   "source": [
    "# Function to normallize and fill the appointment and activities_of_appointment\n",
    "def normalize_appointment_data(data, cursor):\n",
    "    try:\n",
    "        # Iterate over the rows of the dataframe\n",
    "        for _, row in data.iterrows():\n",
    "            # Get the appointment ID to check if it already exists in the database\n",
    "            appointment_id = row['Index']\n",
    "\n",
    "            if check_existence(cursor, \"appointment\", \"appointment_id\",\n",
    "                               appointment_id):\n",
    "                continue  # Skip the rest of the loop if the appointment already exists\n",
    "\n",
    "            # Get the patient_id and payment_id\n",
    "            patient_id = get_id(cursor, \"patient\", \"patient_id\",\n",
    "                                row['Paciente'])\n",
    "            payment_id = get_id(cursor, \"payment_method\", \"payment_method_id\",\n",
    "                                row['Metodo_de_pago'])\n",
    "\n",
    "            try:\n",
    "                # Disable the auto increment temporarily to allow direct insertion of id\n",
    "                cursor.execute(\n",
    "                    \"SET @@session.sql_mode = 'NO_AUTO_VALUE_ON_ZERO';\")\n",
    "                # Insert the data into the \"appointment\" table\n",
    "                insert_data(\n",
    "                    cursor, \"appointment\", \"appointment_id\", appointment_id,\n",
    "                    [\"date\", \"patient_id\", \"value\", \"payment_method_id\"],\n",
    "                    [row['Fecha'], patient_id, row['Valor'], payment_id])\n",
    "\n",
    "                # Enable the auto increment again\n",
    "                cursor.execute(\n",
    "                    \"SET @@session.sql_mode = 'NO_ENGINE_SUBSTITUTION';\")\n",
    "\n",
    "                # Iterate over the activities to insert them on the activities_of_appointment table\n",
    "                for activity in row['Actividades'].split(','):\n",
    "                    activity_id = get_id(cursor, \"activity\", \"activity_id\",\n",
    "                                         activity)\n",
    "\n",
    "                    # Check if the activity is already associated with the appointment\n",
    "                    exists_query = \"SELECT * FROM activities_of_appointment WHERE appointment_id = %s AND activity_id = %s\"\n",
    "                    cursor.execute(exists_query, (appointment_id, activity_id))\n",
    "\n",
    "                    if cursor.fetchone():\n",
    "                        continue  # Skip the rest of the loop if the activity is already associated with the appointment\n",
    "\n",
    "                    # Insert the data into the \"activities_of_appointment\" table\n",
    "                    insert_data(cursor, \"activities_of_appointment\",\n",
    "                                \"appointment_id\", appointment_id,\n",
    "                                [\"activity_id\"], [activity_id])\n",
    "\n",
    "                db.commit()  # Commit if everything is successful\n",
    "            except Exception as e:\n",
    "                # Enable the auto increment again\n",
    "                cursor.execute(\n",
    "                    \"SET @@session.sql_mode = 'NO_ENGINE_SUBSTITUTION';\")\n",
    "                db.rollback()\n",
    "                print(f\"An error occurred: {e}\")\n",
    "\n",
    "    except Exception as e:\n",
    "        db.rollback()\n",
    "        print(f\"An error occurred: {e}\")"
   ]
  },
  {
   "cell_type": "markdown",
   "metadata": {},
   "source": [
    "### Fill tables with data:"
   ]
  },
  {
   "cell_type": "code",
   "execution_count": 12,
   "metadata": {},
   "outputs": [],
   "source": [
    "# Insert data into the \"patient\" table\n",
    "fill_data(pacientes, \"patient\", \"name\", cursor)\n",
    "\n",
    "# Insert data into the \"activity\" table\n",
    "fill_data(activities, \"activity\", \"name\", cursor)\n",
    "\n",
    "# Insert data into the \"payment_method\" table\n",
    "fill_data(payment_types, \"payment_method\", \"name\", cursor)"
   ]
  },
  {
   "cell_type": "code",
   "execution_count": 13,
   "metadata": {},
   "outputs": [],
   "source": [
    "# Normalize and fill the appointment and activities_of_appointment tables\n",
    "normalize_appointment_data(pagos_cleaned, cursor)"
   ]
  },
  {
   "cell_type": "code",
   "execution_count": 14,
   "metadata": {},
   "outputs": [
    {
     "name": "stdout",
     "output_type": "stream",
     "text": [
      "activities_of_appointment: 191\n",
      "activity: 26\n",
      "appointment: 137\n",
      "patient: 112\n",
      "payment_method: 4\n"
     ]
    }
   ],
   "source": [
    "# Check that all tables are filled\n",
    "cursor.execute(\"SHOW TABLES\")\n",
    "tables = cursor.fetchall()\n",
    "for table in tables:\n",
    "    cursor.execute(f\"SELECT COUNT(*) FROM {table[0]}\")\n",
    "    count = cursor.fetchone()\n",
    "    print(f\"{table[0]}: {count[0]}\")"
   ]
  }
 ],
 "metadata": {
  "kernelspec": {
   "display_name": "GSalud_Analysis",
   "language": "python",
   "name": "python3"
  },
  "language_info": {
   "codemirror_mode": {
    "name": "ipython",
    "version": 3
   },
   "file_extension": ".py",
   "mimetype": "text/x-python",
   "name": "python",
   "nbconvert_exporter": "python",
   "pygments_lexer": "ipython3",
   "version": "3.11.4"
  }
 },
 "nbformat": 4,
 "nbformat_minor": 2
}
