{
 "cells": [
  {
   "cell_type": "code",
   "execution_count": 24,
   "metadata": {},
   "outputs": [],
   "source": [
    "import numpy as np\n",
    "import pandas as pd"
   ]
  },
  {
   "cell_type": "code",
   "execution_count": 25,
   "metadata": {},
   "outputs": [
    {
     "data": {
      "text/html": [
       "<div>\n",
       "<style scoped>\n",
       "    .dataframe tbody tr th:only-of-type {\n",
       "        vertical-align: middle;\n",
       "    }\n",
       "\n",
       "    .dataframe tbody tr th {\n",
       "        vertical-align: top;\n",
       "    }\n",
       "\n",
       "    .dataframe thead th {\n",
       "        text-align: right;\n",
       "    }\n",
       "</style>\n",
       "<table border=\"1\" class=\"dataframe\">\n",
       "  <thead>\n",
       "    <tr style=\"text-align: right;\">\n",
       "      <th></th>\n",
       "      <th>Fecha</th>\n",
       "      <th>Paciente</th>\n",
       "      <th>Valor</th>\n",
       "      <th>Actividad</th>\n",
       "      <th>Nequi</th>\n",
       "      <th>Datafono</th>\n",
       "      <th>Transferencia</th>\n",
       "      <th>Efectivo</th>\n",
       "      <th>%</th>\n",
       "    </tr>\n",
       "  </thead>\n",
       "  <tbody>\n",
       "    <tr>\n",
       "      <th>0</th>\n",
       "      <td>09/06/2023</td>\n",
       "      <td>Manfry Ariza</td>\n",
       "      <td>$ 60,000</td>\n",
       "      <td>Valoracion</td>\n",
       "      <td>No</td>\n",
       "      <td>Si</td>\n",
       "      <td>No</td>\n",
       "      <td>No</td>\n",
       "      <td>NaN</td>\n",
       "    </tr>\n",
       "    <tr>\n",
       "      <th>1</th>\n",
       "      <td>09/06/2023</td>\n",
       "      <td>Nazly Avila</td>\n",
       "      <td>$ 185,000</td>\n",
       "      <td>Montaje/retiro</td>\n",
       "      <td>Si</td>\n",
       "      <td>No</td>\n",
       "      <td>No</td>\n",
       "      <td>No</td>\n",
       "      <td>NaN</td>\n",
       "    </tr>\n",
       "    <tr>\n",
       "      <th>2</th>\n",
       "      <td>09/06/2023</td>\n",
       "      <td>Paula Hernandez</td>\n",
       "      <td>$ 25,000</td>\n",
       "      <td>Radiografia</td>\n",
       "      <td>No</td>\n",
       "      <td>No</td>\n",
       "      <td>No</td>\n",
       "      <td>Si</td>\n",
       "      <td>NaN</td>\n",
       "    </tr>\n",
       "    <tr>\n",
       "      <th>3</th>\n",
       "      <td>09/06/2023</td>\n",
       "      <td>Kevin Santiago Soto</td>\n",
       "      <td>$ 105,000</td>\n",
       "      <td>Control/Reparaciones</td>\n",
       "      <td>No</td>\n",
       "      <td>No</td>\n",
       "      <td>No</td>\n",
       "      <td>Si</td>\n",
       "      <td>NaN</td>\n",
       "    </tr>\n",
       "    <tr>\n",
       "      <th>4</th>\n",
       "      <td>09/06/2023</td>\n",
       "      <td>Laura Cupa</td>\n",
       "      <td>$ 60,000</td>\n",
       "      <td>Control</td>\n",
       "      <td>No</td>\n",
       "      <td>Si</td>\n",
       "      <td>No</td>\n",
       "      <td>No</td>\n",
       "      <td>NaN</td>\n",
       "    </tr>\n",
       "  </tbody>\n",
       "</table>\n",
       "</div>"
      ],
      "text/plain": [
       "        Fecha               Paciente        Valor             Actividad Nequi  \\\n",
       "0  09/06/2023           Manfry Ariza    $ 60,000             Valoracion    No   \n",
       "1  09/06/2023           Nazly Avila    $ 185,000         Montaje/retiro    Si   \n",
       "2  09/06/2023       Paula Hernandez     $ 25,000            Radiografia    No   \n",
       "3  09/06/2023   Kevin Santiago Soto    $ 105,000   Control/Reparaciones    No   \n",
       "4  09/06/2023            Laura Cupa     $ 60,000                Control    No   \n",
       "\n",
       "  Datafono Transferencia Efectivo    %  \n",
       "0       Si            No       No  NaN  \n",
       "1       No            No       No  NaN  \n",
       "2       No            No       Si  NaN  \n",
       "3       No            No       Si  NaN  \n",
       "4       Si            No       No  NaN  "
      ]
     },
     "execution_count": 25,
     "metadata": {},
     "output_type": "execute_result"
    }
   ],
   "source": [
    "# read csv and normalize rows names\n",
    "excel = pd.read_csv('pagos.csv', encoding='latin-1', sep=',')\n",
    "excel.columns = excel.columns.str.strip()\n",
    "excel.head()"
   ]
  },
  {
   "cell_type": "code",
   "execution_count": 26,
   "metadata": {},
   "outputs": [
    {
     "data": {
      "text/html": [
       "<div>\n",
       "<style scoped>\n",
       "    .dataframe tbody tr th:only-of-type {\n",
       "        vertical-align: middle;\n",
       "    }\n",
       "\n",
       "    .dataframe tbody tr th {\n",
       "        vertical-align: top;\n",
       "    }\n",
       "\n",
       "    .dataframe thead th {\n",
       "        text-align: right;\n",
       "    }\n",
       "</style>\n",
       "<table border=\"1\" class=\"dataframe\">\n",
       "  <thead>\n",
       "    <tr style=\"text-align: right;\">\n",
       "      <th></th>\n",
       "      <th>Fecha</th>\n",
       "      <th>Paciente</th>\n",
       "      <th>Valor</th>\n",
       "      <th>Actividad</th>\n",
       "      <th>Nequi</th>\n",
       "      <th>Datafono</th>\n",
       "      <th>Transferencia</th>\n",
       "      <th>Efectivo</th>\n",
       "      <th>%</th>\n",
       "    </tr>\n",
       "  </thead>\n",
       "  <tbody>\n",
       "    <tr>\n",
       "      <th>count</th>\n",
       "      <td>10000</td>\n",
       "      <td>147</td>\n",
       "      <td>147</td>\n",
       "      <td>139</td>\n",
       "      <td>146</td>\n",
       "      <td>146</td>\n",
       "      <td>146</td>\n",
       "      <td>146</td>\n",
       "      <td>1</td>\n",
       "    </tr>\n",
       "    <tr>\n",
       "      <th>unique</th>\n",
       "      <td>244</td>\n",
       "      <td>120</td>\n",
       "      <td>43</td>\n",
       "      <td>46</td>\n",
       "      <td>2</td>\n",
       "      <td>2</td>\n",
       "      <td>2</td>\n",
       "      <td>2</td>\n",
       "      <td>1</td>\n",
       "    </tr>\n",
       "    <tr>\n",
       "      <th>top</th>\n",
       "      <td>17/07/2023</td>\n",
       "      <td>Atenais Peña</td>\n",
       "      <td>$ 60,000</td>\n",
       "      <td>Control</td>\n",
       "      <td>No</td>\n",
       "      <td>No</td>\n",
       "      <td>No</td>\n",
       "      <td>Si</td>\n",
       "      <td>Sistecredito</td>\n",
       "    </tr>\n",
       "    <tr>\n",
       "      <th>freq</th>\n",
       "      <td>42</td>\n",
       "      <td>3</td>\n",
       "      <td>32</td>\n",
       "      <td>34</td>\n",
       "      <td>119</td>\n",
       "      <td>111</td>\n",
       "      <td>141</td>\n",
       "      <td>79</td>\n",
       "      <td>1</td>\n",
       "    </tr>\n",
       "  </tbody>\n",
       "</table>\n",
       "</div>"
      ],
      "text/plain": [
       "             Fecha        Paciente       Valor Actividad Nequi Datafono  \\\n",
       "count        10000             147         147       139   146      146   \n",
       "unique         244             120          43        46     2        2   \n",
       "top     17/07/2023   Atenais Peña    $ 60,000    Control    No       No   \n",
       "freq            42               3          32        34   119      111   \n",
       "\n",
       "       Transferencia Efectivo             %  \n",
       "count            146      146             1  \n",
       "unique             2        2             1  \n",
       "top               No       Si  Sistecredito  \n",
       "freq             141       79             1  "
      ]
     },
     "execution_count": 26,
     "metadata": {},
     "output_type": "execute_result"
    }
   ],
   "source": [
    "excel.describe()"
   ]
  },
  {
   "cell_type": "code",
   "execution_count": 27,
   "metadata": {},
   "outputs": [
    {
     "data": {
      "text/plain": [
       "Fecha               0\n",
       "Paciente         9853\n",
       "Valor            9853\n",
       "Actividad        9861\n",
       "Nequi            9854\n",
       "Datafono         9854\n",
       "Transferencia    9854\n",
       "Efectivo         9854\n",
       "%                9999\n",
       "dtype: int64"
      ]
     },
     "execution_count": 27,
     "metadata": {},
     "output_type": "execute_result"
    }
   ],
   "source": [
    "# Check missing values\n",
    "excel.isna().sum()"
   ]
  },
  {
   "cell_type": "markdown",
   "metadata": {},
   "source": [
    "As we can see, there is a lot of rows whith only the date, which means that they were just part of the excel template but they don't have any information. We can remove them."
   ]
  },
  {
   "cell_type": "code",
   "execution_count": 28,
   "metadata": {},
   "outputs": [
    {
     "name": "stdout",
     "output_type": "stream",
     "text": [
      "Number of rows remaining: 147 \n",
      "\n",
      "Number of missing values per column:\n"
     ]
    },
    {
     "data": {
      "text/plain": [
       "Fecha              0\n",
       "Paciente           0\n",
       "Valor              0\n",
       "Actividad          8\n",
       "Nequi              1\n",
       "Datafono           1\n",
       "Transferencia      1\n",
       "Efectivo           1\n",
       "%                146\n",
       "dtype: int64"
      ]
     },
     "execution_count": 28,
     "metadata": {},
     "output_type": "execute_result"
    }
   ],
   "source": [
    "# Delete rows with less than 2 non-NA values to delete rows with only the date\n",
    "excel = excel.dropna(thresh=2)\n",
    "print(f\"Number of rows remaining: {len(excel)} \\n\")\n",
    "print(\"Number of missing values per column:\")\n",
    "excel.isna().sum()"
   ]
  },
  {
   "cell_type": "code",
   "execution_count": 29,
   "metadata": {},
   "outputs": [
    {
     "name": "stdout",
     "output_type": "stream",
     "text": [
      "Number of rows remaining: 147 \n",
      "\n",
      "Number of missing values per column:\n"
     ]
    },
    {
     "data": {
      "text/plain": [
       "Fecha            0\n",
       "Paciente         0\n",
       "Valor            0\n",
       "Actividad        8\n",
       "Nequi            1\n",
       "Datafono         1\n",
       "Transferencia    1\n",
       "Efectivo         1\n",
       "dtype: int64"
      ]
     },
     "execution_count": 29,
     "metadata": {},
     "output_type": "execute_result"
    }
   ],
   "source": [
    "# Delte \"%\" column as it only have 1 non-NA value\n",
    "excel = excel.drop(columns='%')\n",
    "print(f\"Number of rows remaining: {len(excel)} \\n\")\n",
    "print(\"Number of missing values per column:\")\n",
    "excel.isna().sum()"
   ]
  },
  {
   "cell_type": "markdown",
   "metadata": {},
   "source": [
    "As we only have a maximum of 12 rows with missing values, let's check them and see if we can fill them with the information from the previous row."
   ]
  },
  {
   "cell_type": "code",
   "execution_count": 30,
   "metadata": {},
   "outputs": [
    {
     "data": {
      "text/html": [
       "<div>\n",
       "<style scoped>\n",
       "    .dataframe tbody tr th:only-of-type {\n",
       "        vertical-align: middle;\n",
       "    }\n",
       "\n",
       "    .dataframe tbody tr th {\n",
       "        vertical-align: top;\n",
       "    }\n",
       "\n",
       "    .dataframe thead th {\n",
       "        text-align: right;\n",
       "    }\n",
       "</style>\n",
       "<table border=\"1\" class=\"dataframe\">\n",
       "  <thead>\n",
       "    <tr style=\"text-align: right;\">\n",
       "      <th></th>\n",
       "      <th>Fecha</th>\n",
       "      <th>Paciente</th>\n",
       "      <th>Valor</th>\n",
       "      <th>Actividad</th>\n",
       "      <th>Nequi</th>\n",
       "      <th>Datafono</th>\n",
       "      <th>Transferencia</th>\n",
       "      <th>Efectivo</th>\n",
       "    </tr>\n",
       "  </thead>\n",
       "  <tbody>\n",
       "    <tr>\n",
       "      <th>163</th>\n",
       "      <td>13/06/2023</td>\n",
       "      <td>Johana Martinez</td>\n",
       "      <td>$ 20,000</td>\n",
       "      <td>NaN</td>\n",
       "      <td>Si</td>\n",
       "      <td>No</td>\n",
       "      <td>No</td>\n",
       "      <td>No</td>\n",
       "    </tr>\n",
       "    <tr>\n",
       "      <th>164</th>\n",
       "      <td>13/06/2023</td>\n",
       "      <td>Jeimy</td>\n",
       "      <td>$ 30,000</td>\n",
       "      <td>NaN</td>\n",
       "      <td>No</td>\n",
       "      <td>No</td>\n",
       "      <td>No</td>\n",
       "      <td>Si</td>\n",
       "    </tr>\n",
       "    <tr>\n",
       "      <th>165</th>\n",
       "      <td>13/06/2023</td>\n",
       "      <td>Halam Diaz</td>\n",
       "      <td>$ 58,500</td>\n",
       "      <td>NaN</td>\n",
       "      <td>No</td>\n",
       "      <td>No</td>\n",
       "      <td>No</td>\n",
       "      <td>Si</td>\n",
       "    </tr>\n",
       "    <tr>\n",
       "      <th>532</th>\n",
       "      <td>22/06/2023</td>\n",
       "      <td>Yeimy Quintero</td>\n",
       "      <td>$ 60,000</td>\n",
       "      <td>NaN</td>\n",
       "      <td>No</td>\n",
       "      <td>No</td>\n",
       "      <td>No</td>\n",
       "      <td>Si</td>\n",
       "    </tr>\n",
       "    <tr>\n",
       "      <th>534</th>\n",
       "      <td>22/06/2023</td>\n",
       "      <td>Leimar Diaz</td>\n",
       "      <td>$ 50,000</td>\n",
       "      <td>NaN</td>\n",
       "      <td>No</td>\n",
       "      <td>No</td>\n",
       "      <td>No</td>\n",
       "      <td>Si</td>\n",
       "    </tr>\n",
       "    <tr>\n",
       "      <th>536</th>\n",
       "      <td>22/06/2023</td>\n",
       "      <td>Paola Vargas</td>\n",
       "      <td>$ 80,000</td>\n",
       "      <td>NaN</td>\n",
       "      <td>No</td>\n",
       "      <td>No</td>\n",
       "      <td>No</td>\n",
       "      <td>Si</td>\n",
       "    </tr>\n",
       "    <tr>\n",
       "      <th>538</th>\n",
       "      <td>22/06/2023</td>\n",
       "      <td>Cristian Ovalle</td>\n",
       "      <td>$ 180,000</td>\n",
       "      <td>NaN</td>\n",
       "      <td>No</td>\n",
       "      <td>No</td>\n",
       "      <td>No</td>\n",
       "      <td>Si</td>\n",
       "    </tr>\n",
       "    <tr>\n",
       "      <th>9999</th>\n",
       "      <td>17/07/2023</td>\n",
       "      <td>Total desde 09/06/23</td>\n",
       "      <td>$ 18,528,500</td>\n",
       "      <td>NaN</td>\n",
       "      <td>NaN</td>\n",
       "      <td>NaN</td>\n",
       "      <td>NaN</td>\n",
       "      <td>NaN</td>\n",
       "    </tr>\n",
       "  </tbody>\n",
       "</table>\n",
       "</div>"
      ],
      "text/plain": [
       "           Fecha                Paciente           Valor Actividad Nequi  \\\n",
       "163   13/06/2023        Johana Martinez        $ 20,000        NaN    Si   \n",
       "164   13/06/2023                  Jeimy        $ 30,000        NaN    No   \n",
       "165   13/06/2023             Halam Diaz        $ 58,500        NaN    No   \n",
       "532   22/06/2023         Yeimy Quintero        $ 60,000        NaN    No   \n",
       "534   22/06/2023            Leimar Diaz        $ 50,000        NaN    No   \n",
       "536   22/06/2023           Paola Vargas        $ 80,000        NaN    No   \n",
       "538   22/06/2023        Cristian Ovalle       $ 180,000        NaN    No   \n",
       "9999  17/07/2023   Total desde 09/06/23    $ 18,528,500        NaN   NaN   \n",
       "\n",
       "     Datafono Transferencia Efectivo  \n",
       "163        No            No       No  \n",
       "164        No            No       Si  \n",
       "165        No            No       Si  \n",
       "532        No            No       Si  \n",
       "534        No            No       Si  \n",
       "536        No            No       Si  \n",
       "538        No            No       Si  \n",
       "9999      NaN           NaN      NaN  "
      ]
     },
     "execution_count": 30,
     "metadata": {},
     "output_type": "execute_result"
    }
   ],
   "source": [
    "# Print the rows with NA values\n",
    "excel[excel.isna().any(axis=1)]"
   ]
  },
  {
   "cell_type": "markdown",
   "metadata": {},
   "source": [
    "We can see that we have actually only 8 rows with missing values, from which 1 is a summary of the sales from certain period on the original excel file. We can remove it."
   ]
  },
  {
   "cell_type": "code",
   "execution_count": 31,
   "metadata": {},
   "outputs": [
    {
     "data": {
      "text/html": [
       "<div>\n",
       "<style scoped>\n",
       "    .dataframe tbody tr th:only-of-type {\n",
       "        vertical-align: middle;\n",
       "    }\n",
       "\n",
       "    .dataframe tbody tr th {\n",
       "        vertical-align: top;\n",
       "    }\n",
       "\n",
       "    .dataframe thead th {\n",
       "        text-align: right;\n",
       "    }\n",
       "</style>\n",
       "<table border=\"1\" class=\"dataframe\">\n",
       "  <thead>\n",
       "    <tr style=\"text-align: right;\">\n",
       "      <th></th>\n",
       "      <th>Fecha</th>\n",
       "      <th>Paciente</th>\n",
       "      <th>Valor</th>\n",
       "      <th>Actividad</th>\n",
       "      <th>Nequi</th>\n",
       "      <th>Datafono</th>\n",
       "      <th>Transferencia</th>\n",
       "      <th>Efectivo</th>\n",
       "    </tr>\n",
       "  </thead>\n",
       "  <tbody>\n",
       "    <tr>\n",
       "      <th>163</th>\n",
       "      <td>13/06/2023</td>\n",
       "      <td>Johana Martinez</td>\n",
       "      <td>$ 20,000</td>\n",
       "      <td>NaN</td>\n",
       "      <td>Si</td>\n",
       "      <td>No</td>\n",
       "      <td>No</td>\n",
       "      <td>No</td>\n",
       "    </tr>\n",
       "    <tr>\n",
       "      <th>164</th>\n",
       "      <td>13/06/2023</td>\n",
       "      <td>Jeimy</td>\n",
       "      <td>$ 30,000</td>\n",
       "      <td>NaN</td>\n",
       "      <td>No</td>\n",
       "      <td>No</td>\n",
       "      <td>No</td>\n",
       "      <td>Si</td>\n",
       "    </tr>\n",
       "    <tr>\n",
       "      <th>165</th>\n",
       "      <td>13/06/2023</td>\n",
       "      <td>Halam Diaz</td>\n",
       "      <td>$ 58,500</td>\n",
       "      <td>NaN</td>\n",
       "      <td>No</td>\n",
       "      <td>No</td>\n",
       "      <td>No</td>\n",
       "      <td>Si</td>\n",
       "    </tr>\n",
       "    <tr>\n",
       "      <th>532</th>\n",
       "      <td>22/06/2023</td>\n",
       "      <td>Yeimy Quintero</td>\n",
       "      <td>$ 60,000</td>\n",
       "      <td>NaN</td>\n",
       "      <td>No</td>\n",
       "      <td>No</td>\n",
       "      <td>No</td>\n",
       "      <td>Si</td>\n",
       "    </tr>\n",
       "    <tr>\n",
       "      <th>534</th>\n",
       "      <td>22/06/2023</td>\n",
       "      <td>Leimar Diaz</td>\n",
       "      <td>$ 50,000</td>\n",
       "      <td>NaN</td>\n",
       "      <td>No</td>\n",
       "      <td>No</td>\n",
       "      <td>No</td>\n",
       "      <td>Si</td>\n",
       "    </tr>\n",
       "    <tr>\n",
       "      <th>536</th>\n",
       "      <td>22/06/2023</td>\n",
       "      <td>Paola Vargas</td>\n",
       "      <td>$ 80,000</td>\n",
       "      <td>NaN</td>\n",
       "      <td>No</td>\n",
       "      <td>No</td>\n",
       "      <td>No</td>\n",
       "      <td>Si</td>\n",
       "    </tr>\n",
       "    <tr>\n",
       "      <th>538</th>\n",
       "      <td>22/06/2023</td>\n",
       "      <td>Cristian Ovalle</td>\n",
       "      <td>$ 180,000</td>\n",
       "      <td>NaN</td>\n",
       "      <td>No</td>\n",
       "      <td>No</td>\n",
       "      <td>No</td>\n",
       "      <td>Si</td>\n",
       "    </tr>\n",
       "  </tbody>\n",
       "</table>\n",
       "</div>"
      ],
      "text/plain": [
       "          Fecha           Paciente        Valor Actividad Nequi Datafono  \\\n",
       "163  13/06/2023   Johana Martinez     $ 20,000        NaN    Si       No   \n",
       "164  13/06/2023             Jeimy     $ 30,000        NaN    No       No   \n",
       "165  13/06/2023        Halam Diaz     $ 58,500        NaN    No       No   \n",
       "532  22/06/2023    Yeimy Quintero     $ 60,000        NaN    No       No   \n",
       "534  22/06/2023       Leimar Diaz     $ 50,000        NaN    No       No   \n",
       "536  22/06/2023      Paola Vargas     $ 80,000        NaN    No       No   \n",
       "538  22/06/2023   Cristian Ovalle    $ 180,000        NaN    No       No   \n",
       "\n",
       "    Transferencia Efectivo  \n",
       "163            No       No  \n",
       "164            No       Si  \n",
       "165            No       Si  \n",
       "532            No       Si  \n",
       "534            No       Si  \n",
       "536            No       Si  \n",
       "538            No       Si  "
      ]
     },
     "execution_count": 31,
     "metadata": {},
     "output_type": "execute_result"
    }
   ],
   "source": [
    "# Delte row of excel summary (index 9999)\n",
    "excel = excel.drop(9999)\n",
    "excel[excel.isna().any(axis=1)]"
   ]
  },
  {
   "cell_type": "markdown",
   "metadata": {},
   "source": [
    "Now, before dealing with the missing values rest of the missing values, let's fix the data types of the columns."
   ]
  },
  {
   "cell_type": "code",
   "execution_count": 32,
   "metadata": {},
   "outputs": [
    {
     "data": {
      "text/plain": [
       "Fecha            object\n",
       "Paciente         object\n",
       "Valor             int64\n",
       "Actividad        object\n",
       "Nequi            object\n",
       "Datafono         object\n",
       "Transferencia    object\n",
       "Efectivo         object\n",
       "dtype: object"
      ]
     },
     "execution_count": 32,
     "metadata": {},
     "output_type": "execute_result"
    }
   ],
   "source": [
    "# Convert \"Valor\" column into integer from the format \"$ 12,345,678\"\n",
    "excel['Valor'] = excel['Valor'].str.replace('$', '')\n",
    "excel['Valor'] = excel['Valor'].str.replace(',', '')\n",
    "excel['Valor'] = excel['Valor'].str.replace(' ', '')\n",
    "excel['Valor'] = excel['Valor'].astype(int)\n",
    "\n",
    "excel.dtypes"
   ]
  },
  {
   "cell_type": "code",
   "execution_count": 33,
   "metadata": {},
   "outputs": [],
   "source": [
    "# Convert \"Si\" and \"No\" to boolean\n",
    "excel['Nequi'] = excel['Nequi'].replace({\n",
    "    'Si': True,\n",
    "    'No': False\n",
    "}).astype('bool')\n",
    "excel['Datafono'] = excel['Datafono'].replace({\n",
    "    'Si': True,\n",
    "    'No': False\n",
    "}).astype('bool')\n",
    "excel['Transferencia'] = excel['Transferencia'].replace({\n",
    "    'Si': True,\n",
    "    'No': False\n",
    "}).astype('bool')\n",
    "excel['Efectivo'] = excel['Efectivo'].replace({\n",
    "    'Si': True,\n",
    "    'No': False\n",
    "}).astype('bool')\n",
    "\n",
    "# Convert \"Fecha\" in format day/month/year to datetime\n",
    "excel['Fecha'] = pd.to_datetime(excel['Fecha'], format='%d/%m/%Y')\n",
    "\n",
    "# Standarize \"Paciente\" column\n",
    "excel['Paciente'] = excel['Paciente'].str.strip().str.title()"
   ]
  },
  {
   "cell_type": "markdown",
   "metadata": {},
   "source": [
    "Now, with the data types fixed, let's check the missing values again.\n"
   ]
  },
  {
   "cell_type": "code",
   "execution_count": 34,
   "metadata": {},
   "outputs": [
    {
     "name": "stdout",
     "output_type": "stream",
     "text": [
      "Types of columns:\n"
     ]
    },
    {
     "data": {
      "text/plain": [
       "Fecha            datetime64[ns]\n",
       "Paciente                 object\n",
       "Valor                     int64\n",
       "Actividad                object\n",
       "Nequi                      bool\n",
       "Datafono                   bool\n",
       "Transferencia              bool\n",
       "Efectivo                   bool\n",
       "dtype: object"
      ]
     },
     "execution_count": 34,
     "metadata": {},
     "output_type": "execute_result"
    }
   ],
   "source": [
    "print(\"Types of columns:\")\n",
    "excel.dtypes"
   ]
  },
  {
   "cell_type": "markdown",
   "metadata": {},
   "source": [
    "With the data types fixed, for the 7 rows with missing values and 1 with invalid ones, they are all missing a proper value on the `Actividad` column. Therefore, we are going to check the percentage of the sales value that they represent to check if we can remove them temporarly."
   ]
  },
  {
   "cell_type": "code",
   "execution_count": 35,
   "metadata": {},
   "outputs": [
    {
     "name": "stdout",
     "output_type": "stream",
     "text": [
      "Total: $18,528,500.00 COP\n",
      "Total NA: $508,500.00 COP\n",
      "Lost money percentage: 2.74%\n"
     ]
    }
   ],
   "source": [
    "# Create boolean indexing for rows with NA or invalid values in the 'Actividad' column\n",
    "na_boolean_list = excel['Actividad'].isna()\n",
    "# This is an invalid value as it was a note, not an activity\n",
    "invalids_boolean_list = excel['Actividad'] == '90: Deuda'\n",
    "nan_or_invalid = na_boolean_list | invalids_boolean_list\n",
    "\n",
    "# Get the values of the rows with NA or invalid values in the 'Actividad' column\n",
    "df_actividades_na = excel[nan_or_invalid]\n",
    "\n",
    "total_na = df_actividades_na['Valor'].sum()\n",
    "\n",
    "# Get the total amount of money\n",
    "total = excel['Valor'].sum()\n",
    "\n",
    "print(f'Total: ${total:,.2f} COP')\n",
    "print(f'Total NA: ${total_na:,.2f} COP')\n",
    "print(f'Lost money percentage: {total_na/total*100:.2f}%')"
   ]
  },
  {
   "cell_type": "markdown",
   "metadata": {},
   "source": [
    "As they represent 2.74% of the total sales, we can remove them temporarly and check if we can fill them with the information in the future."
   ]
  },
  {
   "cell_type": "code",
   "execution_count": 36,
   "metadata": {},
   "outputs": [],
   "source": [
    "# Creating new database without nan/invalid values to clean and standardize activities names\n",
    "cleaning_df = excel[~nan_or_invalid].copy()"
   ]
  },
  {
   "cell_type": "markdown",
   "metadata": {},
   "source": [
    "Now, let's check the different values for activities to see if they are in a format easy to work with."
   ]
  },
  {
   "cell_type": "code",
   "execution_count": 37,
   "metadata": {},
   "outputs": [
    {
     "name": "stdout",
     "output_type": "stream",
     "text": [
      "['Valoracion' 'Montaje/retiro' 'Radiografia' 'Control/Reparaciones'\n",
      " 'Control' 'Bichectomia' 'Limpieza/braquets' 'Botox/Hilos' 'Faja'\n",
      " 'Lipopapada y Bichectomia' 'Control Caucho' 'Limpieza' 'Reparaciones'\n",
      " 'Reparacion Y Cauchos' 'Hilos' 'Lipopapada Bichectomia'\n",
      " 'Tratamiento Odontologico' 'Calsa' 'Retenedores' 'Bichectomia Lipopapada'\n",
      " 'Protesis' 'Limpieza Exodoncia' 'Control, Reparacion' 'Consulta General'\n",
      " 'Control, Reparaciones' 'Control, Reparaciones, caucho' 'Lipopapada'\n",
      " 'Control, Reparacion, Caucho' 'Control, Cauchos' 'Limpieza, Montaje'\n",
      " 'Resina' 'Kit' 'Lipopada, Faja' 'Control, Reparaciones, Cauchos'\n",
      " 'LipoPapada' 'Extraccion' 'Extracciones' 'Control, Exodoncia' 'Resinas'\n",
      " 'Hilos, Retenedor' 'Controles, Reparacion' 'Papada, Encimas'\n",
      " 'Placa Activada' 'Pago Porcentaje']\n",
      "\n",
      "Total of activities: 44\n"
     ]
    }
   ],
   "source": [
    "# Removing spaces at the start or the end\n",
    "cleaning_df.loc[:, 'Actividad'] = cleaning_df['Actividad'].str.strip()\n",
    "\n",
    "print(cleaning_df['Actividad'].unique())\n",
    "print(f\"\\nTotal of activities: {len(cleaning_df['Actividad'].unique())}\")"
   ]
  },
  {
   "cell_type": "markdown",
   "metadata": {},
   "source": [
    "As we can see, the activities format is not consistent. We can see that there are some activities that are repeated but with different names. Other's where there are more than one activity in the same row. And others where the activity is not clear."
   ]
  },
  {
   "cell_type": "markdown",
   "metadata": {},
   "source": [
    "Therefore, we need to standarize and clean the activities names."
   ]
  },
  {
   "cell_type": "code",
   "execution_count": 38,
   "metadata": {},
   "outputs": [
    {
     "name": "stdout",
     "output_type": "stream",
     "text": [
      "Activities list size: 40\n",
      "Non-cleaning data size: (3, 8)\n",
      "Cleaning data size: (134, 8)\n"
     ]
    }
   ],
   "source": [
    "# Remove all rows with activity name 'Pago Porcentaje',\n",
    "# as they correspond to internal division of the payments and are not relevant for the analysis\n",
    "cleaning_df = cleaning_df[~cleaning_df['Actividad'].str.\n",
    "                          contains('Pago Porcentaje')]\n",
    "\n",
    "# Define activities already in the correct format to avoid spliting them as different activities\n",
    "exceptions = ['Tratamiento Odontologico', 'Consulta General', 'Placa Activada']\n",
    "\n",
    "# Exclude exceptions from the data manipulation\n",
    "df_clean_rows = cleaning_df[cleaning_df['Actividad'].isin(exceptions)]\n",
    "cleaning_df = cleaning_df[~cleaning_df['Actividad'].isin(exceptions)]\n",
    "\n",
    "print(f\"Activities list size: {cleaning_df['Actividad'].unique().size}\")\n",
    "print(f\"Non-cleaning data size: {df_clean_rows.shape}\")\n",
    "print(f\"Cleaning data size: {cleaning_df.shape}\")"
   ]
  },
  {
   "cell_type": "code",
   "execution_count": 39,
   "metadata": {},
   "outputs": [
    {
     "name": "stdout",
     "output_type": "stream",
     "text": [
      "['valoracion' 'montaje,retiro' 'radiografia' 'control,reparaciones'\n",
      " 'control' 'bichectomia' 'limpieza,braquets' 'botox,hilos' 'faja'\n",
      " 'lipopapada,bichectomia' 'control,caucho' 'limpieza' 'reparaciones'\n",
      " 'reparacion,cauchos' 'hilos' 'calsa' 'retenedores'\n",
      " 'bichectomia,lipopapada' 'protesis' 'limpieza,exodoncia'\n",
      " 'control,reparacion' 'control,reparaciones,caucho' 'lipopapada'\n",
      " 'control,reparacion,caucho' 'control,cauchos' 'limpieza,montaje' 'resina'\n",
      " 'kit' 'lipopada,faja' 'control,reparaciones,cauchos' 'extraccion'\n",
      " 'extracciones' 'control,exodoncia' 'resinas' 'hilos,retenedor'\n",
      " 'controles,reparacion' 'papada,encimas']\n",
      "\n",
      "Total of activities: 37\n"
     ]
    }
   ],
   "source": [
    "# Standardize the format of the activities by replacing different delimiters with a single comma\n",
    "cleaning_df['Actividad'] = cleaning_df['Actividad'].str.replace(\n",
    "    r'\\s*[,/yY ]+\\s*', ',', regex=True)\n",
    "\n",
    "# Make everything lowercase\n",
    "cleaning_df['Actividad'] = cleaning_df['Actividad'].str.lower()\n",
    "\n",
    "print(cleaning_df['Actividad'].unique())\n",
    "print(f\"\\nTotal of activities: {len(cleaning_df['Actividad'].unique())}\")"
   ]
  },
  {
   "cell_type": "code",
   "execution_count": 40,
   "metadata": {},
   "outputs": [
    {
     "name": "stdout",
     "output_type": "stream",
     "text": [
      "['valoracion' 'montaje,retiro' 'radiografia' 'control,reparacion'\n",
      " 'control' 'bichectomia' 'limpieza,braquets' 'botox,hilos' 'faja'\n",
      " 'lipopapada,bichectomia' 'control,cauchos' 'limpieza' 'reparacion'\n",
      " 'reparacion,cauchos' 'hilos' 'calsa' 'retenedores'\n",
      " 'bichectomia,lipopapada' 'protesis' 'limpieza,exodoncia'\n",
      " 'control,reparacion,cauchos' 'lipopapada' 'limpieza,montaje' 'resina'\n",
      " 'kit' 'lipopapada,faja' 'extraccion' 'control,exodoncia'\n",
      " 'hilos,retenedores' 'papada,encimas']\n",
      "\n",
      "Total of activities: 30\n"
     ]
    }
   ],
   "source": [
    "# Replace conjugations of activities name with only one cunjugation\n",
    "\n",
    "replacements = {\n",
    "    r'\\bcontroles\\b': 'control',\n",
    "    r'\\breparaciones\\b': 'reparacion',\n",
    "    r'\\bextracciones\\b': 'extraccion',\n",
    "    r'\\bcaucho\\b': 'cauchos',\n",
    "    r'\\blipopada\\b': 'lipopapada',\n",
    "    r'\\bresinas\\b': 'resina',\n",
    "    r'\\bretenedor\\b': 'retenedores'\n",
    "}\n",
    "\n",
    "# Apply replacements\n",
    "cleaning_df['Actividad'] = cleaning_df['Actividad'].replace(replacements,\n",
    "                                                            regex=True)\n",
    "\n",
    "print(cleaning_df['Actividad'].unique())\n",
    "print(f\"\\nTotal of activities: {len(cleaning_df['Actividad'].unique())}\")"
   ]
  },
  {
   "cell_type": "markdown",
   "metadata": {},
   "source": [
    "Now, we are going to split the activities that have more than one activity in the same row."
   ]
  },
  {
   "cell_type": "code",
   "execution_count": 41,
   "metadata": {},
   "outputs": [
    {
     "name": "stdout",
     "output_type": "stream",
     "text": [
      "Unique single activities: ['valoracion' 'montaje' 'retiro' 'radiografia' 'control' 'reparacion'\n",
      " 'bichectomia' 'limpieza' 'braquets' 'botox' 'hilos' 'faja' 'lipopapada'\n",
      " 'cauchos' 'calsa' 'retenedores' 'protesis' 'exodoncia' 'resina' 'kit'\n",
      " 'extraccion' 'papada' 'encimas']\n",
      "\n",
      "Total of single activities: 23\n"
     ]
    }
   ],
   "source": [
    "# Get the list of different single activities\n",
    "activities = cleaning_df['Actividad'].str.split(',',\n",
    "                                                expand=True).stack().unique()\n",
    "\n",
    "print(f\"Unique single activities: {activities}\")\n",
    "print(f\"\\nTotal of single activities: {len(activities)}\")"
   ]
  },
  {
   "cell_type": "code",
   "execution_count": 42,
   "metadata": {},
   "outputs": [
    {
     "data": {
      "text/plain": [
       "['Fecha',\n",
       " 'Paciente',\n",
       " 'Valor',\n",
       " 'Actividad',\n",
       " 'Nequi',\n",
       " 'Datafono',\n",
       " 'Transferencia',\n",
       " 'Efectivo',\n",
       " 'Actividad_1',\n",
       " 'Actividad_2',\n",
       " 'Actividad_3']"
      ]
     },
     "execution_count": 42,
     "metadata": {},
     "output_type": "execute_result"
    }
   ],
   "source": [
    "# Split the activities by comma into new columns\n",
    "activities_df = cleaning_df['Actividad'].str.split(\n",
    "    ',', expand=True).rename(columns=lambda x: f'Actividad_{x + 1}')\n",
    "\n",
    "# Join the new columns with the main dataframe into a new rebuilt one\n",
    "rebuilt_df = cleaning_df.join(activities_df, sort=True)\n",
    "\n",
    "rebuilt_df.columns.to_list()"
   ]
  },
  {
   "cell_type": "markdown",
   "metadata": {},
   "source": [
    "Now, we are going to join the dataframe with the cleaned activities names with the one of the exceptions."
   ]
  },
  {
   "cell_type": "code",
   "execution_count": 43,
   "metadata": {},
   "outputs": [
    {
     "name": "stdout",
     "output_type": "stream",
     "text": [
      "Data size: 137\n"
     ]
    },
    {
     "data": {
      "text/html": [
       "<div>\n",
       "<style scoped>\n",
       "    .dataframe tbody tr th:only-of-type {\n",
       "        vertical-align: middle;\n",
       "    }\n",
       "\n",
       "    .dataframe tbody tr th {\n",
       "        vertical-align: top;\n",
       "    }\n",
       "\n",
       "    .dataframe thead th {\n",
       "        text-align: right;\n",
       "    }\n",
       "</style>\n",
       "<table border=\"1\" class=\"dataframe\">\n",
       "  <thead>\n",
       "    <tr style=\"text-align: right;\">\n",
       "      <th></th>\n",
       "      <th>Fecha</th>\n",
       "      <th>Paciente</th>\n",
       "      <th>Valor</th>\n",
       "      <th>Actividades</th>\n",
       "      <th>Actividad_1</th>\n",
       "      <th>Actividad_2</th>\n",
       "      <th>Actividad_3</th>\n",
       "      <th>Nequi</th>\n",
       "      <th>Datafono</th>\n",
       "      <th>Transferencia</th>\n",
       "      <th>Efectivo</th>\n",
       "    </tr>\n",
       "  </thead>\n",
       "  <tbody>\n",
       "    <tr>\n",
       "      <th>0</th>\n",
       "      <td>2023-06-09</td>\n",
       "      <td>Manfry Ariza</td>\n",
       "      <td>60000</td>\n",
       "      <td>valoracion</td>\n",
       "      <td>valoracion</td>\n",
       "      <td>None</td>\n",
       "      <td>None</td>\n",
       "      <td>False</td>\n",
       "      <td>True</td>\n",
       "      <td>False</td>\n",
       "      <td>False</td>\n",
       "    </tr>\n",
       "    <tr>\n",
       "      <th>1</th>\n",
       "      <td>2023-06-09</td>\n",
       "      <td>Nazly Avila</td>\n",
       "      <td>185000</td>\n",
       "      <td>montaje,retiro</td>\n",
       "      <td>montaje</td>\n",
       "      <td>retiro</td>\n",
       "      <td>None</td>\n",
       "      <td>True</td>\n",
       "      <td>False</td>\n",
       "      <td>False</td>\n",
       "      <td>False</td>\n",
       "    </tr>\n",
       "    <tr>\n",
       "      <th>2</th>\n",
       "      <td>2023-06-09</td>\n",
       "      <td>Paula Hernandez</td>\n",
       "      <td>25000</td>\n",
       "      <td>radiografia</td>\n",
       "      <td>radiografia</td>\n",
       "      <td>None</td>\n",
       "      <td>None</td>\n",
       "      <td>False</td>\n",
       "      <td>False</td>\n",
       "      <td>False</td>\n",
       "      <td>True</td>\n",
       "    </tr>\n",
       "    <tr>\n",
       "      <th>3</th>\n",
       "      <td>2023-06-09</td>\n",
       "      <td>Kevin Santiago Soto</td>\n",
       "      <td>105000</td>\n",
       "      <td>control,reparacion</td>\n",
       "      <td>control</td>\n",
       "      <td>reparacion</td>\n",
       "      <td>None</td>\n",
       "      <td>False</td>\n",
       "      <td>False</td>\n",
       "      <td>False</td>\n",
       "      <td>True</td>\n",
       "    </tr>\n",
       "    <tr>\n",
       "      <th>4</th>\n",
       "      <td>2023-06-09</td>\n",
       "      <td>Laura Cupa</td>\n",
       "      <td>60000</td>\n",
       "      <td>control</td>\n",
       "      <td>control</td>\n",
       "      <td>None</td>\n",
       "      <td>None</td>\n",
       "      <td>False</td>\n",
       "      <td>True</td>\n",
       "      <td>False</td>\n",
       "      <td>False</td>\n",
       "    </tr>\n",
       "  </tbody>\n",
       "</table>\n",
       "</div>"
      ],
      "text/plain": [
       "       Fecha             Paciente   Valor         Actividades  Actividad_1  \\\n",
       "0 2023-06-09         Manfry Ariza   60000          valoracion   valoracion   \n",
       "1 2023-06-09          Nazly Avila  185000      montaje,retiro      montaje   \n",
       "2 2023-06-09      Paula Hernandez   25000         radiografia  radiografia   \n",
       "3 2023-06-09  Kevin Santiago Soto  105000  control,reparacion      control   \n",
       "4 2023-06-09           Laura Cupa   60000             control      control   \n",
       "\n",
       "  Actividad_2 Actividad_3  Nequi  Datafono  Transferencia  Efectivo  \n",
       "0        None        None  False      True          False     False  \n",
       "1      retiro        None   True     False          False     False  \n",
       "2        None        None  False     False          False      True  \n",
       "3  reparacion        None  False     False          False      True  \n",
       "4        None        None  False      True          False     False  "
      ]
     },
     "execution_count": 43,
     "metadata": {},
     "output_type": "execute_result"
    }
   ],
   "source": [
    "# Add \"Actividad_1\" column to the non-cleaning data\n",
    "df_clean_rows['Actividad_1'] = df_clean_rows['Actividad']\n",
    "# Append the non-cleaning data to the rebuilt one\n",
    "rebuilt_df = pd.concat([rebuilt_df, df_clean_rows])\n",
    "\n",
    "# Rename column Actividad to Actividades\n",
    "rebuilt_df = rebuilt_df.rename(columns={'Actividad': 'Actividades'})\n",
    "\n",
    "# Reorder columns\n",
    "columns = rebuilt_df.columns.tolist()\n",
    "columns = columns[:4] + columns[-3:] + columns[4:8]\n",
    "\n",
    "rebuilt_df = rebuilt_df[columns]\n",
    "\n",
    "print(f\"Data size: {len(rebuilt_df)}\")\n",
    "rebuilt_df.head()"
   ]
  },
  {
   "cell_type": "code",
   "execution_count": 44,
   "metadata": {},
   "outputs": [
    {
     "data": {
      "text/plain": [
       "Fecha              0\n",
       "Paciente           0\n",
       "Valor              0\n",
       "Actividades        0\n",
       "Actividad_1        0\n",
       "Actividad_2       87\n",
       "Actividad_3      133\n",
       "Nequi              0\n",
       "Datafono           0\n",
       "Transferencia      0\n",
       "Efectivo           0\n",
       "dtype: int64"
      ]
     },
     "execution_count": 44,
     "metadata": {},
     "output_type": "execute_result"
    }
   ],
   "source": [
    "# Check that there are only missing values for columns Actividad_2 and Actividad_3\n",
    "rebuilt_df.isna().sum()"
   ]
  },
  {
   "cell_type": "markdown",
   "metadata": {},
   "source": [
    "Finally, we create csv files for the cleaned dataframe and the one with the missing activities we ommited."
   ]
  },
  {
   "cell_type": "code",
   "execution_count": 45,
   "metadata": {},
   "outputs": [
    {
     "data": {
      "text/html": [
       "<div>\n",
       "<style scoped>\n",
       "    .dataframe tbody tr th:only-of-type {\n",
       "        vertical-align: middle;\n",
       "    }\n",
       "\n",
       "    .dataframe tbody tr th {\n",
       "        vertical-align: top;\n",
       "    }\n",
       "\n",
       "    .dataframe thead th {\n",
       "        text-align: right;\n",
       "    }\n",
       "</style>\n",
       "<table border=\"1\" class=\"dataframe\">\n",
       "  <thead>\n",
       "    <tr style=\"text-align: right;\">\n",
       "      <th></th>\n",
       "      <th>Fecha</th>\n",
       "      <th>Paciente</th>\n",
       "      <th>Valor</th>\n",
       "      <th>Actividades</th>\n",
       "      <th>Actividad_1</th>\n",
       "      <th>Actividad_2</th>\n",
       "      <th>Actividad_3</th>\n",
       "      <th>Nequi</th>\n",
       "      <th>Datafono</th>\n",
       "      <th>Transferencia</th>\n",
       "      <th>Efectivo</th>\n",
       "    </tr>\n",
       "  </thead>\n",
       "  <tbody>\n",
       "    <tr>\n",
       "      <th>0</th>\n",
       "      <td>2023-06-09</td>\n",
       "      <td>Manfry Ariza</td>\n",
       "      <td>60000</td>\n",
       "      <td>valoracion</td>\n",
       "      <td>valoracion</td>\n",
       "      <td>None</td>\n",
       "      <td>None</td>\n",
       "      <td>False</td>\n",
       "      <td>True</td>\n",
       "      <td>False</td>\n",
       "      <td>False</td>\n",
       "    </tr>\n",
       "    <tr>\n",
       "      <th>1</th>\n",
       "      <td>2023-06-09</td>\n",
       "      <td>Nazly Avila</td>\n",
       "      <td>185000</td>\n",
       "      <td>montaje,retiro</td>\n",
       "      <td>montaje</td>\n",
       "      <td>retiro</td>\n",
       "      <td>None</td>\n",
       "      <td>True</td>\n",
       "      <td>False</td>\n",
       "      <td>False</td>\n",
       "      <td>False</td>\n",
       "    </tr>\n",
       "    <tr>\n",
       "      <th>2</th>\n",
       "      <td>2023-06-09</td>\n",
       "      <td>Paula Hernandez</td>\n",
       "      <td>25000</td>\n",
       "      <td>radiografia</td>\n",
       "      <td>radiografia</td>\n",
       "      <td>None</td>\n",
       "      <td>None</td>\n",
       "      <td>False</td>\n",
       "      <td>False</td>\n",
       "      <td>False</td>\n",
       "      <td>True</td>\n",
       "    </tr>\n",
       "    <tr>\n",
       "      <th>3</th>\n",
       "      <td>2023-06-09</td>\n",
       "      <td>Kevin Santiago Soto</td>\n",
       "      <td>105000</td>\n",
       "      <td>control,reparacion</td>\n",
       "      <td>control</td>\n",
       "      <td>reparacion</td>\n",
       "      <td>None</td>\n",
       "      <td>False</td>\n",
       "      <td>False</td>\n",
       "      <td>False</td>\n",
       "      <td>True</td>\n",
       "    </tr>\n",
       "    <tr>\n",
       "      <th>4</th>\n",
       "      <td>2023-06-09</td>\n",
       "      <td>Laura Cupa</td>\n",
       "      <td>60000</td>\n",
       "      <td>control</td>\n",
       "      <td>control</td>\n",
       "      <td>None</td>\n",
       "      <td>None</td>\n",
       "      <td>False</td>\n",
       "      <td>True</td>\n",
       "      <td>False</td>\n",
       "      <td>False</td>\n",
       "    </tr>\n",
       "  </tbody>\n",
       "</table>\n",
       "</div>"
      ],
      "text/plain": [
       "       Fecha             Paciente   Valor         Actividades  Actividad_1  \\\n",
       "0 2023-06-09         Manfry Ariza   60000          valoracion   valoracion   \n",
       "1 2023-06-09          Nazly Avila  185000      montaje,retiro      montaje   \n",
       "2 2023-06-09      Paula Hernandez   25000         radiografia  radiografia   \n",
       "3 2023-06-09  Kevin Santiago Soto  105000  control,reparacion      control   \n",
       "4 2023-06-09           Laura Cupa   60000             control      control   \n",
       "\n",
       "  Actividad_2 Actividad_3  Nequi  Datafono  Transferencia  Efectivo  \n",
       "0        None        None  False      True          False     False  \n",
       "1      retiro        None   True     False          False     False  \n",
       "2        None        None  False     False          False      True  \n",
       "3  reparacion        None  False     False          False      True  \n",
       "4        None        None  False      True          False     False  "
      ]
     },
     "execution_count": 45,
     "metadata": {},
     "output_type": "execute_result"
    }
   ],
   "source": [
    "# Convert cleaned data to csv\n",
    "rebuilt_df.to_csv('pagos_cleaned.csv', index=True, index_label='Index')\n",
    "rebuilt_df.head()"
   ]
  },
  {
   "cell_type": "code",
   "execution_count": 46,
   "metadata": {},
   "outputs": [
    {
     "data": {
      "text/html": [
       "<div>\n",
       "<style scoped>\n",
       "    .dataframe tbody tr th:only-of-type {\n",
       "        vertical-align: middle;\n",
       "    }\n",
       "\n",
       "    .dataframe tbody tr th {\n",
       "        vertical-align: top;\n",
       "    }\n",
       "\n",
       "    .dataframe thead th {\n",
       "        text-align: right;\n",
       "    }\n",
       "</style>\n",
       "<table border=\"1\" class=\"dataframe\">\n",
       "  <thead>\n",
       "    <tr style=\"text-align: right;\">\n",
       "      <th></th>\n",
       "      <th>Fecha</th>\n",
       "      <th>Paciente</th>\n",
       "      <th>Valor</th>\n",
       "      <th>Actividad</th>\n",
       "      <th>Nequi</th>\n",
       "      <th>Datafono</th>\n",
       "      <th>Transferencia</th>\n",
       "      <th>Efectivo</th>\n",
       "    </tr>\n",
       "  </thead>\n",
       "  <tbody>\n",
       "    <tr>\n",
       "      <th>163</th>\n",
       "      <td>2023-06-13</td>\n",
       "      <td>Johana Martinez</td>\n",
       "      <td>20000</td>\n",
       "      <td>NaN</td>\n",
       "      <td>True</td>\n",
       "      <td>False</td>\n",
       "      <td>False</td>\n",
       "      <td>False</td>\n",
       "    </tr>\n",
       "    <tr>\n",
       "      <th>164</th>\n",
       "      <td>2023-06-13</td>\n",
       "      <td>Jeimy</td>\n",
       "      <td>30000</td>\n",
       "      <td>NaN</td>\n",
       "      <td>False</td>\n",
       "      <td>False</td>\n",
       "      <td>False</td>\n",
       "      <td>True</td>\n",
       "    </tr>\n",
       "    <tr>\n",
       "      <th>165</th>\n",
       "      <td>2023-06-13</td>\n",
       "      <td>Halam Diaz</td>\n",
       "      <td>58500</td>\n",
       "      <td>NaN</td>\n",
       "      <td>False</td>\n",
       "      <td>False</td>\n",
       "      <td>False</td>\n",
       "      <td>True</td>\n",
       "    </tr>\n",
       "    <tr>\n",
       "      <th>532</th>\n",
       "      <td>2023-06-22</td>\n",
       "      <td>Yeimy Quintero</td>\n",
       "      <td>60000</td>\n",
       "      <td>NaN</td>\n",
       "      <td>False</td>\n",
       "      <td>False</td>\n",
       "      <td>False</td>\n",
       "      <td>True</td>\n",
       "    </tr>\n",
       "    <tr>\n",
       "      <th>534</th>\n",
       "      <td>2023-06-22</td>\n",
       "      <td>Leimar Diaz</td>\n",
       "      <td>50000</td>\n",
       "      <td>NaN</td>\n",
       "      <td>False</td>\n",
       "      <td>False</td>\n",
       "      <td>False</td>\n",
       "      <td>True</td>\n",
       "    </tr>\n",
       "    <tr>\n",
       "      <th>535</th>\n",
       "      <td>2023-06-22</td>\n",
       "      <td>Leimar Diaz</td>\n",
       "      <td>30000</td>\n",
       "      <td>NaN</td>\n",
       "      <td>True</td>\n",
       "      <td>False</td>\n",
       "      <td>False</td>\n",
       "      <td>False</td>\n",
       "    </tr>\n",
       "    <tr>\n",
       "      <th>536</th>\n",
       "      <td>2023-06-22</td>\n",
       "      <td>Paola Vargas</td>\n",
       "      <td>80000</td>\n",
       "      <td>NaN</td>\n",
       "      <td>False</td>\n",
       "      <td>False</td>\n",
       "      <td>False</td>\n",
       "      <td>True</td>\n",
       "    </tr>\n",
       "    <tr>\n",
       "      <th>538</th>\n",
       "      <td>2023-06-22</td>\n",
       "      <td>Cristian Ovalle</td>\n",
       "      <td>180000</td>\n",
       "      <td>NaN</td>\n",
       "      <td>False</td>\n",
       "      <td>False</td>\n",
       "      <td>False</td>\n",
       "      <td>True</td>\n",
       "    </tr>\n",
       "  </tbody>\n",
       "</table>\n",
       "</div>"
      ],
      "text/plain": [
       "         Fecha         Paciente   Valor Actividad  Nequi  Datafono  \\\n",
       "163 2023-06-13  Johana Martinez   20000       NaN   True     False   \n",
       "164 2023-06-13            Jeimy   30000       NaN  False     False   \n",
       "165 2023-06-13       Halam Diaz   58500       NaN  False     False   \n",
       "532 2023-06-22   Yeimy Quintero   60000       NaN  False     False   \n",
       "534 2023-06-22      Leimar Diaz   50000       NaN  False     False   \n",
       "535 2023-06-22      Leimar Diaz   30000       NaN   True     False   \n",
       "536 2023-06-22     Paola Vargas   80000       NaN  False     False   \n",
       "538 2023-06-22  Cristian Ovalle  180000       NaN  False     False   \n",
       "\n",
       "     Transferencia  Efectivo  \n",
       "163          False     False  \n",
       "164          False      True  \n",
       "165          False      True  \n",
       "532          False      True  \n",
       "534          False      True  \n",
       "535          False     False  \n",
       "536          False      True  \n",
       "538          False      True  "
      ]
     },
     "execution_count": 46,
     "metadata": {},
     "output_type": "execute_result"
    }
   ],
   "source": [
    "# Convert invalid values into nan before converting to csv\n",
    "df_actividades_na.loc[:, 'Actividad'] = np.nan\n",
    "\n",
    "# Convert into csv\n",
    "df_actividades_na.to_csv('pagos_na.csv', index=True, index_label='Index')\n",
    "\n",
    "df_actividades_na"
   ]
  }
 ],
 "metadata": {
  "kernelspec": {
   "display_name": "base",
   "language": "python",
   "name": "python3"
  },
  "language_info": {
   "codemirror_mode": {
    "name": "ipython",
    "version": 3
   },
   "file_extension": ".py",
   "mimetype": "text/x-python",
   "name": "python",
   "nbconvert_exporter": "python",
   "pygments_lexer": "ipython3",
   "version": "3.11.4"
  },
  "orig_nbformat": 4
 },
 "nbformat": 4,
 "nbformat_minor": 2
}
